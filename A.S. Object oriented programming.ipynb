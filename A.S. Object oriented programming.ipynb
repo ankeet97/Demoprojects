{
 "cells": [
  {
   "cell_type": "code",
   "execution_count": 4,
   "id": "00fc4882",
   "metadata": {},
   "outputs": [],
   "source": [
    "class Gmail:     #class\n",
    "    def __init__(self,name,last_name,city,user_id,password):    # attributes\\arguments\n",
    "        #data intialization\n",
    "        self.name       = name\n",
    "        self.last_name  = last_name\n",
    "        self.city       = city\n",
    "        self.user_id    = user_id\n",
    "        self.password   = password\n",
    "    def login(self):         #method\n",
    "        while True:\n",
    "            signin = input('Email- ')\n",
    "            password = input('Password- ')\n",
    "            if signin == self.user_id and password == self.password:\n",
    "                print('Successfully Logged In')\n",
    "                break\n",
    "            else:\n",
    "                print('User ID or Password is invalid')\n",
    "                continue\n",
    "    def personal_info(self):             #method\n",
    "        print('Name:',self.name)\n",
    "        print('Last Name:',self.last_name)\n",
    "        print('City:',self.city)\n",
    "    def general_info(self):          #method\n",
    "        print('Language:','English(US)')\n",
    "        print('User ID:',self.user_id)\n",
    "        "
   ]
  },
  {
   "cell_type": "code",
   "execution_count": 5,
   "id": "610aeacc",
   "metadata": {},
   "outputs": [],
   "source": [
    "mail = Gmail('Ankeet','Sambyal','Jammu','Ankeet_Sambyal','sambyal@123') # instantiating a class and create a object for the class"
   ]
  },
  {
   "cell_type": "code",
   "execution_count": 6,
   "id": "0a7b2255",
   "metadata": {},
   "outputs": [
    {
     "name": "stdout",
     "output_type": "stream",
     "text": [
      "Email- Ankeet_Sambyal\n",
      "Password- sambyal@123\n",
      "Successfully Logged In\n"
     ]
    }
   ],
   "source": [
    "mail.login()"
   ]
  },
  {
   "cell_type": "code",
   "execution_count": 7,
   "id": "3d76be30",
   "metadata": {},
   "outputs": [
    {
     "name": "stdout",
     "output_type": "stream",
     "text": [
      "Name: Ankeet\n",
      "Last Name: Sambyal\n",
      "City: Jammu\n"
     ]
    }
   ],
   "source": [
    "mail.personal_info()"
   ]
  },
  {
   "cell_type": "code",
   "execution_count": 8,
   "id": "112c3c16",
   "metadata": {},
   "outputs": [
    {
     "name": "stdout",
     "output_type": "stream",
     "text": [
      "Language: English(US)\n",
      "User ID: Ankeet_Sambyal\n"
     ]
    }
   ],
   "source": [
    "mail.general_info()"
   ]
  },
  {
   "cell_type": "code",
   "execution_count": 12,
   "id": "99494fb9",
   "metadata": {},
   "outputs": [],
   "source": [
    "class new_Gmail(Gmail):\n",
    "    def __init__(self,phone_number,*args):\n",
    "        super(new_Gmail,self).__init__(*args)\n",
    "        self.phone_number = phone_number\n",
    "    def password_recovery(self):\n",
    "        phone = int(input('Enter register phone number'))\n",
    "        if phone == self.phone_number:\n",
    "            print('Your password is: ',self.password)\n",
    "        else:\n",
    "            print('Invalid phone number')\n",
    "        "
   ]
  },
  {
   "cell_type": "code",
   "execution_count": 13,
   "id": "5e9c3efd",
   "metadata": {},
   "outputs": [],
   "source": [
    "new_mail = new_Gmail(9999988888,'Ankeet','Sambyal','Jammu','Ankeet_Sambyal','sambyal@123')"
   ]
  },
  {
   "cell_type": "code",
   "execution_count": 14,
   "id": "66f88a2e",
   "metadata": {},
   "outputs": [
    {
     "name": "stdout",
     "output_type": "stream",
     "text": [
      "Enter register phone number9999988888\n",
      "Your password is:  sambyal@123\n"
     ]
    }
   ],
   "source": [
    "new_mail.password_recovery()"
   ]
  },
  {
   "cell_type": "code",
   "execution_count": 17,
   "id": "f169a879",
   "metadata": {},
   "outputs": [
    {
     "name": "stdout",
     "output_type": "stream",
     "text": [
      "<__main__.Tyres object at 0x0000003642E5C130>\n",
      "Engine: \n",
      "\tfuel_type:Petrol\n",
      "\tnoise_level:2.3\n",
      "Body:\n",
      "\tsize:SUV\n"
     ]
    }
   ],
   "source": [
    "class Tyres:\n",
    "    def __init__(self,branch,belted_bias,opt_pressure):\n",
    "        self.branch = branch\n",
    "        self.belted_bias = belted_bias\n",
    "        self.opt_pressure = opt_pressure\n",
    "    def __str___(self):\n",
    "        return ('Tyres: \\n\\tbranch:'+self.branch+\n",
    "                '\\n\\tbelted_bias:'+str(self.belted_bias)+\n",
    "                '\\n\\topt_pressure:'+str(self.opt_pressure))\n",
    "class Engine:\n",
    "    def __init__(self,fuel_type,noise_level):\n",
    "        self.fuel_type = fuel_type\n",
    "        self.noise_level = noise_level\n",
    "    def __str__(self):\n",
    "        return ('Engine: \\n\\tfuel_type:'+self.fuel_type+\n",
    "                '\\n\\tnoise_level:'+str(self.noise_level))\n",
    "class Body:\n",
    "    def __init__(self,size):\n",
    "        self.size = size\n",
    "    def __str__(self):\n",
    "         return ('Body:\\n\\tsize:'+self.size)\n",
    "class car:\n",
    "    def __init__(self,tyres,engine,body):\n",
    "        self.tyres = tyres\n",
    "        self.engine = engine\n",
    "        self.body = body\n",
    "    def __str__(self):\n",
    "        return str(self.tyres) + '\\n'+str(self.engine)+'\\n'+str(self.body)\n",
    "t = Tyres('MRF',True,34)\n",
    "e = Engine('Petrol',2.3)\n",
    "b = Body('SUV')\n",
    "c = car(t,e,b)\n",
    "print(c)\n",
    "    "
   ]
  },
  {
   "cell_type": "code",
   "execution_count": null,
   "id": "c1757e37",
   "metadata": {},
   "outputs": [],
   "source": []
  }
 ],
 "metadata": {
  "kernelspec": {
   "display_name": "Python 3 (ipykernel)",
   "language": "python",
   "name": "python3"
  },
  "language_info": {
   "codemirror_mode": {
    "name": "ipython",
    "version": 3
   },
   "file_extension": ".py",
   "mimetype": "text/x-python",
   "name": "python",
   "nbconvert_exporter": "python",
   "pygments_lexer": "ipython3",
   "version": "3.9.7"
  }
 },
 "nbformat": 4,
 "nbformat_minor": 5
}
