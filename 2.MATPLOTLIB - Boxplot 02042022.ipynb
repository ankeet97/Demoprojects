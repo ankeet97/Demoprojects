{
 "cells": [
  {
   "cell_type": "code",
   "execution_count": 1,
   "id": "52db73ff",
   "metadata": {},
   "outputs": [],
   "source": [
    "import numpy as np\n",
    "import pandas as pd\n",
    "import seaborn as sns\n",
    "import matplotlib.pyplot as plt\n",
    "%matplotlib inline"
   ]
  },
  {
   "cell_type": "code",
   "execution_count": 60,
   "id": "b8f9c46e",
   "metadata": {},
   "outputs": [
    {
     "data": {
      "text/html": [
       "<div>\n",
       "<style scoped>\n",
       "    .dataframe tbody tr th:only-of-type {\n",
       "        vertical-align: middle;\n",
       "    }\n",
       "\n",
       "    .dataframe tbody tr th {\n",
       "        vertical-align: top;\n",
       "    }\n",
       "\n",
       "    .dataframe thead th {\n",
       "        text-align: right;\n",
       "    }\n",
       "</style>\n",
       "<table border=\"1\" class=\"dataframe\">\n",
       "  <thead>\n",
       "    <tr style=\"text-align: right;\">\n",
       "      <th></th>\n",
       "      <th>Age_Year</th>\n",
       "      <th>Salary_Thousands</th>\n",
       "    </tr>\n",
       "  </thead>\n",
       "  <tbody>\n",
       "    <tr>\n",
       "      <th>0</th>\n",
       "      <td>10</td>\n",
       "      <td>15</td>\n",
       "    </tr>\n",
       "    <tr>\n",
       "      <th>1</th>\n",
       "      <td>15</td>\n",
       "      <td>20</td>\n",
       "    </tr>\n",
       "    <tr>\n",
       "      <th>2</th>\n",
       "      <td>1</td>\n",
       "      <td>23</td>\n",
       "    </tr>\n",
       "    <tr>\n",
       "      <th>3</th>\n",
       "      <td>22</td>\n",
       "      <td>25</td>\n",
       "    </tr>\n",
       "    <tr>\n",
       "      <th>4</th>\n",
       "      <td>25</td>\n",
       "      <td>27</td>\n",
       "    </tr>\n",
       "    <tr>\n",
       "      <th>5</th>\n",
       "      <td>18</td>\n",
       "      <td>30</td>\n",
       "    </tr>\n",
       "    <tr>\n",
       "      <th>6</th>\n",
       "      <td>17</td>\n",
       "      <td>35</td>\n",
       "    </tr>\n",
       "    <tr>\n",
       "      <th>7</th>\n",
       "      <td>23</td>\n",
       "      <td>40</td>\n",
       "    </tr>\n",
       "    <tr>\n",
       "      <th>8</th>\n",
       "      <td>24</td>\n",
       "      <td>45</td>\n",
       "    </tr>\n",
       "    <tr>\n",
       "      <th>9</th>\n",
       "      <td>40</td>\n",
       "      <td>26</td>\n",
       "    </tr>\n",
       "    <tr>\n",
       "      <th>10</th>\n",
       "      <td>27</td>\n",
       "      <td>19</td>\n",
       "    </tr>\n",
       "    <tr>\n",
       "      <th>11</th>\n",
       "      <td>19</td>\n",
       "      <td>65</td>\n",
       "    </tr>\n",
       "  </tbody>\n",
       "</table>\n",
       "</div>"
      ],
      "text/plain": [
       "    Age_Year  Salary_Thousands\n",
       "0         10                15\n",
       "1         15                20\n",
       "2          1                23\n",
       "3         22                25\n",
       "4         25                27\n",
       "5         18                30\n",
       "6         17                35\n",
       "7         23                40\n",
       "8         24                45\n",
       "9         40                26\n",
       "10        27                19\n",
       "11        19                65"
      ]
     },
     "execution_count": 60,
     "metadata": {},
     "output_type": "execute_result"
    }
   ],
   "source": [
    "emp = {'Age_Year':[10,15,1,22,25,18,17,23,24,40,27,19],'Salary_Thousands':[15,20,23,25,27,30,35,40,45,26,19,65]}\n",
    "df = pd.DataFrame(emp)\n",
    "df"
   ]
  },
  {
   "cell_type": "code",
   "execution_count": 61,
   "id": "72d793b7",
   "metadata": {},
   "outputs": [
    {
     "data": {
      "image/png": "[encoded data removed]",
      "text/plain": [
       "<Figure size 360x432 with 1 Axes>"
      ]
     },
     "metadata": {
      "needs_background": "light"
     },
     "output_type": "display_data"
    }
   ],
   "source": [
    "# BOxplot\n",
    "plt.figure(figsize=(5,6))\n",
    "ax = sns.boxplot(data=df)\n",
    "plt.yticks(range(5,75,5)) # range on y axis\n",
    "plt.xlabel('Age and Salary')\n",
    "plt.show()"
   ]
  },
  {
   "cell_type": "code",
   "execution_count": 58,
   "id": "b9c4c4a1",
   "metadata": {},
   "outputs": [
    {
     "data": {
      "text/plain": [
       "<AxesSubplot:>"
      ]
     },
     "execution_count": 58,
     "metadata": {},
     "output_type": "execute_result"
    },
    {
     "data": {
      "image/png": "[encoded data removed]",
      "text/plain": [
       "<Figure size 360x432 with 1 Axes>"
      ]
     },
     "metadata": {
      "needs_background": "light"
     },
     "output_type": "display_data"
    }
   ],
   "source": [
    "# Another way\n",
    "df.plot(kind = 'box', figsize=(5,6),color = 'r',yticks = range(5,75,5))"
   ]
  },
  {
   "cell_type": "code",
   "execution_count": 59,
   "id": "78fe4864",
   "metadata": {},
   "outputs": [
    {
     "data": {
      "text/plain": [
       "[15, 19, 20, 23, 25, 26, 27, 30, 35, 40, 45, 65]"
      ]
     },
     "execution_count": 59,
     "metadata": {},
     "output_type": "execute_result"
    }
   ],
   "source": [
    "sal = [15,20,23,25,27,30,35,40,45,26,19,65]\n",
    "sal.sort()\n",
    "sal"
   ]
  },
  {
   "cell_type": "markdown",
   "id": "826a00de",
   "metadata": {},
   "source": [
    "Below example.\n",
    "[15, 19, 20, 23, 25, 26, 27, 30, 35, 40, 45, 65]\n",
    "n = total elements in the above example(12 items)\n",
    "25% =(25/100)*(n+1)=3.25(data at 3.25 postion is 25% percentile.Lets say around 20.50\n",
    "50% =(50/100)*(n+1)=6.5(data at this position)\n",
    "75% =(75/100)*(n+1)=9.75(data at this position)"
   ]
  },
  {
   "cell_type": "markdown",
   "id": "f79f54a0",
   "metadata": {},
   "source": [
    "# outliers"
   ]
  },
  {
   "cell_type": "code",
   "execution_count": 62,
   "id": "804cbe2b",
   "metadata": {},
   "outputs": [
    {
     "data": {
      "text/plain": [
       "0     15\n",
       "1     19\n",
       "2     20\n",
       "3     23\n",
       "4     25\n",
       "5     26\n",
       "6     27\n",
       "7     30\n",
       "8     35\n",
       "9     40\n",
       "10    45\n",
       "11    65\n",
       "dtype: int64"
      ]
     },
     "execution_count": 62,
     "metadata": {},
     "output_type": "execute_result"
    }
   ],
   "source": [
    "\n",
    "ser = pd.Series(sal)\n",
    "ser"
   ]
  },
  {
   "cell_type": "code",
   "execution_count": 63,
   "id": "fa399ae9",
   "metadata": {},
   "outputs": [
    {
     "name": "stdout",
     "output_type": "stream",
     "text": [
      "Q1 22.25\n",
      "Q3 36.25\n",
      "IQR 14.0\n"
     ]
    }
   ],
   "source": [
    "# 1st quantile\n",
    "q1 = ser.quantile(0.25)\n",
    "print('Q1',q1)\n",
    "#3rd quantile\n",
    "q3 = ser.quantile(0.75)\n",
    "print('Q3',q3)\n",
    "#find the IQR(inter quantile range)to identify outliers\n",
    "iqr = q3-q1\n",
    "print('IQR',iqr)"
   ]
  },
  {
   "cell_type": "markdown",
   "id": "696b9793",
   "metadata": {},
   "source": [
    "# outlier detection formula\n",
    "# higher side ==>Q3+(1.5* IQR)\n",
    "# lower side ==>Q1-(1.5* IQR)"
   ]
  },
  {
   "cell_type": "code",
   "execution_count": 57,
   "id": "31e4d34a",
   "metadata": {},
   "outputs": [
    {
     "name": "stdout",
     "output_type": "stream",
     "text": [
      "57.25\n"
     ]
    }
   ],
   "source": [
    "upside = q3 +(1.5*iqr)\n",
    "print(upside)"
   ]
  },
  {
   "cell_type": "markdown",
   "id": "7868bf40",
   "metadata": {},
   "source": [
    "Any data above 57.25 is outlier"
   ]
  },
  {
   "cell_type": "code",
   "execution_count": 64,
   "id": "4cf4c563",
   "metadata": {},
   "outputs": [
    {
     "name": "stdout",
     "output_type": "stream",
     "text": [
      "1.25\n"
     ]
    }
   ],
   "source": [
    "lowerside = q1-(1.5*iqr)\n",
    "print(lowerside)"
   ]
  },
  {
   "cell_type": "markdown",
   "id": "bf09f6b2",
   "metadata": {},
   "source": [
    "Anything below 1.25 is outlier"
   ]
  },
  {
   "cell_type": "code",
   "execution_count": 74,
   "id": "6a0cc0da",
   "metadata": {},
   "outputs": [
    {
     "data": {
      "text/plain": [
       "[1, 10, 15, 17, 18, 19, 22, 23, 24, 25, 27, 40]"
      ]
     },
     "execution_count": 74,
     "metadata": {},
     "output_type": "execute_result"
    }
   ],
   "source": [
    "Age_Year = [10,15,1,22,25,18,17,23,24,40,27,19]\n",
    "Age_Year.sort()\n",
    "Age_Year"
   ]
  },
  {
   "cell_type": "code",
   "execution_count": 75,
   "id": "f25cb6ff",
   "metadata": {},
   "outputs": [
    {
     "data": {
      "text/plain": [
       "0      1\n",
       "1     10\n",
       "2     15\n",
       "3     17\n",
       "4     18\n",
       "5     19\n",
       "6     22\n",
       "7     23\n",
       "8     24\n",
       "9     25\n",
       "10    27\n",
       "11    40\n",
       "dtype: int64"
      ]
     },
     "execution_count": 75,
     "metadata": {},
     "output_type": "execute_result"
    }
   ],
   "source": [
    "Age_Year = pd.Series(Age_Year)\n",
    "Age_Year"
   ]
  },
  {
   "cell_type": "code",
   "execution_count": 76,
   "id": "3a3d51f5",
   "metadata": {},
   "outputs": [
    {
     "name": "stdout",
     "output_type": "stream",
     "text": [
      "A1 22.25\n",
      "A3 36.25\n",
      "IQR 14.0\n"
     ]
    }
   ],
   "source": [
    "# 1st quantile\n",
    "A1 = ser.quantile(0.25)\n",
    "print('A1',A1)\n",
    "# 3rd quantile\n",
    "A3 = ser.quantile(0.75)\n",
    "print('A3',A3)\n",
    "iqr = A3-A1\n",
    "print('IQR',iqr)"
   ]
  },
  {
   "cell_type": "code",
   "execution_count": 77,
   "id": "c0c6c193",
   "metadata": {},
   "outputs": [
    {
     "data": {
      "text/plain": [
       "'C:\\\\Users\\\\amit saxena'"
      ]
     },
     "execution_count": 77,
     "metadata": {},
     "output_type": "execute_result"
    }
   ],
   "source": [
    "pwd"
   ]
  },
  {
   "cell_type": "code",
   "execution_count": null,
   "id": "a0c60542",
   "metadata": {},
   "outputs": [],
   "source": []
  }
 ],
 "metadata": {
  "kernelspec": {
   "display_name": "Python 3 (ipykernel)",
   "language": "python",
   "name": "python3"
  },
  "language_info": {
   "codemirror_mode": {
    "name": "ipython",
    "version": 3
   },
   "file_extension": ".py",
   "mimetype": "text/x-python",
   "name": "python",
   "nbconvert_exporter": "python",
   "pygments_lexer": "ipython3",
   "version": "3.9.7"
  }
 },
 "nbformat": 4,
 "nbformat_minor": 5
}
