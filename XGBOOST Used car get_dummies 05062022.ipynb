{
 "cells": [
  {
   "cell_type": "code",
   "execution_count": 1,
   "id": "7fbf49b1",
   "metadata": {},
   "outputs": [],
   "source": [
    "import numpy as np\n",
    "import pandas as pd\n",
    "import matplotlib.pyplot as plt\n",
    "from sklearn.model_selection import train_test_split,GridSearchCV\n",
    "from sklearn.metrics import r2_score,mean_squared_error\n",
    "import xgboost as xgb\n",
    "import warnings\n",
    "warnings.filterwarnings('ignore')"
   ]
  },
  {
   "cell_type": "code",
   "execution_count": 2,
   "id": "1edd01a3",
   "metadata": {},
   "outputs": [
    {
     "data": {
      "text/html": [
       "<div>\n",
       "<style scoped>\n",
       "    .dataframe tbody tr th:only-of-type {\n",
       "        vertical-align: middle;\n",
       "    }\n",
       "\n",
       "    .dataframe tbody tr th {\n",
       "        vertical-align: top;\n",
       "    }\n",
       "\n",
       "    .dataframe thead th {\n",
       "        text-align: right;\n",
       "    }\n",
       "</style>\n",
       "<table border=\"1\" class=\"dataframe\">\n",
       "  <thead>\n",
       "    <tr style=\"text-align: right;\">\n",
       "      <th></th>\n",
       "      <th>Unnamed: 0</th>\n",
       "      <th>id</th>\n",
       "      <th>price</th>\n",
       "      <th>year</th>\n",
       "      <th>manufacturer</th>\n",
       "      <th>model</th>\n",
       "      <th>condition</th>\n",
       "      <th>cylinders</th>\n",
       "      <th>fuel</th>\n",
       "      <th>odometer</th>\n",
       "      <th>title_status</th>\n",
       "      <th>transmission</th>\n",
       "      <th>drive</th>\n",
       "      <th>size</th>\n",
       "      <th>type</th>\n",
       "      <th>paint_color</th>\n",
       "      <th>county</th>\n",
       "      <th>state</th>\n",
       "      <th>lat</th>\n",
       "      <th>long</th>\n",
       "    </tr>\n",
       "  </thead>\n",
       "  <tbody>\n",
       "    <tr>\n",
       "      <th>0</th>\n",
       "      <td>55483</td>\n",
       "      <td>7315914053</td>\n",
       "      <td>0</td>\n",
       "      <td>2018.0</td>\n",
       "      <td>ram</td>\n",
       "      <td>promaster 2500</td>\n",
       "      <td>excellent</td>\n",
       "      <td>NaN</td>\n",
       "      <td>gas</td>\n",
       "      <td>44244.0</td>\n",
       "      <td>clean</td>\n",
       "      <td>automatic</td>\n",
       "      <td>NaN</td>\n",
       "      <td>NaN</td>\n",
       "      <td>van</td>\n",
       "      <td>NaN</td>\n",
       "      <td>NaN</td>\n",
       "      <td>ca</td>\n",
       "      <td>32.792800</td>\n",
       "      <td>-116.966500</td>\n",
       "    </tr>\n",
       "    <tr>\n",
       "      <th>1</th>\n",
       "      <td>162368</td>\n",
       "      <td>7310885048</td>\n",
       "      <td>13995</td>\n",
       "      <td>2017.0</td>\n",
       "      <td>mazda</td>\n",
       "      <td>cx-3</td>\n",
       "      <td>NaN</td>\n",
       "      <td>4 cylinders</td>\n",
       "      <td>gas</td>\n",
       "      <td>7037.0</td>\n",
       "      <td>rebuilt</td>\n",
       "      <td>automatic</td>\n",
       "      <td>NaN</td>\n",
       "      <td>NaN</td>\n",
       "      <td>SUV</td>\n",
       "      <td>white</td>\n",
       "      <td>NaN</td>\n",
       "      <td>ia</td>\n",
       "      <td>41.207382</td>\n",
       "      <td>-96.023096</td>\n",
       "    </tr>\n",
       "    <tr>\n",
       "      <th>2</th>\n",
       "      <td>234393</td>\n",
       "      <td>7308243856</td>\n",
       "      <td>19990</td>\n",
       "      <td>2019.0</td>\n",
       "      <td>mitsubishi</td>\n",
       "      <td>eclipse cross sp</td>\n",
       "      <td>good</td>\n",
       "      <td>NaN</td>\n",
       "      <td>gas</td>\n",
       "      <td>35313.0</td>\n",
       "      <td>clean</td>\n",
       "      <td>other</td>\n",
       "      <td>4wd</td>\n",
       "      <td>NaN</td>\n",
       "      <td>hatchback</td>\n",
       "      <td>white</td>\n",
       "      <td>NaN</td>\n",
       "      <td>nc</td>\n",
       "      <td>35.190000</td>\n",
       "      <td>-80.830000</td>\n",
       "    </tr>\n",
       "    <tr>\n",
       "      <th>3</th>\n",
       "      <td>276110</td>\n",
       "      <td>7315817729</td>\n",
       "      <td>0</td>\n",
       "      <td>2019.0</td>\n",
       "      <td>honda</td>\n",
       "      <td>cr-v</td>\n",
       "      <td>NaN</td>\n",
       "      <td>NaN</td>\n",
       "      <td>gas</td>\n",
       "      <td>25626.0</td>\n",
       "      <td>clean</td>\n",
       "      <td>automatic</td>\n",
       "      <td>NaN</td>\n",
       "      <td>NaN</td>\n",
       "      <td>SUV</td>\n",
       "      <td>orange</td>\n",
       "      <td>NaN</td>\n",
       "      <td>ny</td>\n",
       "      <td>40.854573</td>\n",
       "      <td>-74.120219</td>\n",
       "    </tr>\n",
       "    <tr>\n",
       "      <th>4</th>\n",
       "      <td>349033</td>\n",
       "      <td>7301620999</td>\n",
       "      <td>42900</td>\n",
       "      <td>2015.0</td>\n",
       "      <td>chevrolet</td>\n",
       "      <td>corvette</td>\n",
       "      <td>excellent</td>\n",
       "      <td>8 cylinders</td>\n",
       "      <td>gas</td>\n",
       "      <td>29000.0</td>\n",
       "      <td>clean</td>\n",
       "      <td>automatic</td>\n",
       "      <td>NaN</td>\n",
       "      <td>NaN</td>\n",
       "      <td>convertible</td>\n",
       "      <td>black</td>\n",
       "      <td>NaN</td>\n",
       "      <td>sc</td>\n",
       "      <td>34.755562</td>\n",
       "      <td>-82.906419</td>\n",
       "    </tr>\n",
       "  </tbody>\n",
       "</table>\n",
       "</div>"
      ],
      "text/plain": [
       "   Unnamed: 0          id  price    year manufacturer             model  \\\n",
       "0       55483  7315914053      0  2018.0          ram    promaster 2500   \n",
       "1      162368  7310885048  13995  2017.0        mazda              cx-3   \n",
       "2      234393  7308243856  19990  2019.0   mitsubishi  eclipse cross sp   \n",
       "3      276110  7315817729      0  2019.0        honda              cr-v   \n",
       "4      349033  7301620999  42900  2015.0    chevrolet          corvette   \n",
       "\n",
       "   condition    cylinders fuel  odometer title_status transmission drive size  \\\n",
       "0  excellent          NaN  gas   44244.0        clean    automatic   NaN  NaN   \n",
       "1        NaN  4 cylinders  gas    7037.0      rebuilt    automatic   NaN  NaN   \n",
       "2       good          NaN  gas   35313.0        clean        other   4wd  NaN   \n",
       "3        NaN          NaN  gas   25626.0        clean    automatic   NaN  NaN   \n",
       "4  excellent  8 cylinders  gas   29000.0        clean    automatic   NaN  NaN   \n",
       "\n",
       "          type paint_color  county state        lat        long  \n",
       "0          van         NaN     NaN    ca  32.792800 -116.966500  \n",
       "1          SUV       white     NaN    ia  41.207382  -96.023096  \n",
       "2    hatchback       white     NaN    nc  35.190000  -80.830000  \n",
       "3          SUV      orange     NaN    ny  40.854573  -74.120219  \n",
       "4  convertible       black     NaN    sc  34.755562  -82.906419  "
      ]
     },
     "execution_count": 2,
     "metadata": {},
     "output_type": "execute_result"
    }
   ],
   "source": [
    "df = pd.read_csv(r'vehicles_data.csv')\n",
    "df.head(5)"
   ]
  },
  {
   "cell_type": "code",
   "execution_count": 3,
   "id": "90e32d48",
   "metadata": {},
   "outputs": [
    {
     "data": {
      "text/plain": [
       "(64032, 20)"
      ]
     },
     "execution_count": 3,
     "metadata": {},
     "output_type": "execute_result"
    }
   ],
   "source": [
    "df.shape"
   ]
  },
  {
   "cell_type": "code",
   "execution_count": 4,
   "id": "0f080b68",
   "metadata": {},
   "outputs": [
    {
     "data": {
      "text/plain": [
       "Index(['Unnamed: 0', 'id', 'price', 'year', 'manufacturer', 'model',\n",
       "       'condition', 'cylinders', 'fuel', 'odometer', 'title_status',\n",
       "       'transmission', 'drive', 'size', 'type', 'paint_color', 'county',\n",
       "       'state', 'lat', 'long'],\n",
       "      dtype='object')"
      ]
     },
     "execution_count": 4,
     "metadata": {},
     "output_type": "execute_result"
    }
   ],
   "source": [
    "df.columns"
   ]
  },
  {
   "cell_type": "code",
   "execution_count": 5,
   "id": "ce371e7e",
   "metadata": {},
   "outputs": [],
   "source": [
    "drop_columns = ['Unnamed: 0','id','title_status','size','lat','long','county']\n",
    "df = df.drop(columns = drop_columns,axis = 1)"
   ]
  },
  {
   "cell_type": "code",
   "execution_count": 6,
   "id": "ec49d69d",
   "metadata": {},
   "outputs": [
    {
     "data": {
      "text/plain": [
       "(64032, 13)"
      ]
     },
     "execution_count": 6,
     "metadata": {},
     "output_type": "execute_result"
    }
   ],
   "source": [
    "df.shape"
   ]
  },
  {
   "cell_type": "code",
   "execution_count": 7,
   "id": "d1bc4d86",
   "metadata": {},
   "outputs": [
    {
     "data": {
      "text/plain": [
       "price               0\n",
       "year              158\n",
       "manufacturer     2569\n",
       "model             802\n",
       "condition       26097\n",
       "cylinders       26511\n",
       "fuel              424\n",
       "odometer          669\n",
       "transmission      353\n",
       "drive           19471\n",
       "type            13785\n",
       "paint_color     19505\n",
       "state               0\n",
       "dtype: int64"
      ]
     },
     "execution_count": 7,
     "metadata": {},
     "output_type": "execute_result"
    }
   ],
   "source": [
    "df.isna().sum()"
   ]
  },
  {
   "cell_type": "code",
   "execution_count": 8,
   "id": "fe7124ed",
   "metadata": {},
   "outputs": [
    {
     "data": {
      "text/html": [
       "<div>\n",
       "<style scoped>\n",
       "    .dataframe tbody tr th:only-of-type {\n",
       "        vertical-align: middle;\n",
       "    }\n",
       "\n",
       "    .dataframe tbody tr th {\n",
       "        vertical-align: top;\n",
       "    }\n",
       "\n",
       "    .dataframe thead th {\n",
       "        text-align: right;\n",
       "    }\n",
       "</style>\n",
       "<table border=\"1\" class=\"dataframe\">\n",
       "  <thead>\n",
       "    <tr style=\"text-align: right;\">\n",
       "      <th></th>\n",
       "      <th>price</th>\n",
       "      <th>year</th>\n",
       "      <th>manufacturer</th>\n",
       "      <th>model</th>\n",
       "      <th>condition</th>\n",
       "      <th>cylinders</th>\n",
       "      <th>fuel</th>\n",
       "      <th>odometer</th>\n",
       "      <th>transmission</th>\n",
       "      <th>drive</th>\n",
       "      <th>type</th>\n",
       "      <th>paint_color</th>\n",
       "      <th>state</th>\n",
       "    </tr>\n",
       "  </thead>\n",
       "  <tbody>\n",
       "    <tr>\n",
       "      <th>5</th>\n",
       "      <td>0</td>\n",
       "      <td>2006.0</td>\n",
       "      <td>chrysler</td>\n",
       "      <td>300</td>\n",
       "      <td>like new</td>\n",
       "      <td>8 cylinders</td>\n",
       "      <td>gas</td>\n",
       "      <td>149000.0</td>\n",
       "      <td>automatic</td>\n",
       "      <td>rwd</td>\n",
       "      <td>sedan</td>\n",
       "      <td>white</td>\n",
       "      <td>fl</td>\n",
       "    </tr>\n",
       "    <tr>\n",
       "      <th>9</th>\n",
       "      <td>20995</td>\n",
       "      <td>2011.0</td>\n",
       "      <td>chevrolet</td>\n",
       "      <td>silverado 1500</td>\n",
       "      <td>excellent</td>\n",
       "      <td>8 cylinders</td>\n",
       "      <td>gas</td>\n",
       "      <td>92001.0</td>\n",
       "      <td>automatic</td>\n",
       "      <td>4wd</td>\n",
       "      <td>truck</td>\n",
       "      <td>blue</td>\n",
       "      <td>wi</td>\n",
       "    </tr>\n",
       "    <tr>\n",
       "      <th>15</th>\n",
       "      <td>50995</td>\n",
       "      <td>2017.0</td>\n",
       "      <td>gmc</td>\n",
       "      <td>yukon denali</td>\n",
       "      <td>like new</td>\n",
       "      <td>8 cylinders</td>\n",
       "      <td>gas</td>\n",
       "      <td>70227.0</td>\n",
       "      <td>automatic</td>\n",
       "      <td>4wd</td>\n",
       "      <td>SUV</td>\n",
       "      <td>grey</td>\n",
       "      <td>ak</td>\n",
       "    </tr>\n",
       "    <tr>\n",
       "      <th>22</th>\n",
       "      <td>13500</td>\n",
       "      <td>2014.0</td>\n",
       "      <td>chevrolet</td>\n",
       "      <td>tahoe</td>\n",
       "      <td>good</td>\n",
       "      <td>8 cylinders</td>\n",
       "      <td>gas</td>\n",
       "      <td>96007.0</td>\n",
       "      <td>automatic</td>\n",
       "      <td>rwd</td>\n",
       "      <td>SUV</td>\n",
       "      <td>white</td>\n",
       "      <td>fl</td>\n",
       "    </tr>\n",
       "    <tr>\n",
       "      <th>29</th>\n",
       "      <td>34990</td>\n",
       "      <td>2016.0</td>\n",
       "      <td>gmc</td>\n",
       "      <td>canyon crew cab sle pickup</td>\n",
       "      <td>good</td>\n",
       "      <td>6 cylinders</td>\n",
       "      <td>gas</td>\n",
       "      <td>34425.0</td>\n",
       "      <td>other</td>\n",
       "      <td>4wd</td>\n",
       "      <td>pickup</td>\n",
       "      <td>red</td>\n",
       "      <td>ma</td>\n",
       "    </tr>\n",
       "  </tbody>\n",
       "</table>\n",
       "</div>"
      ],
      "text/plain": [
       "    price    year manufacturer                       model  condition  \\\n",
       "5       0  2006.0     chrysler                         300   like new   \n",
       "9   20995  2011.0    chevrolet              silverado 1500  excellent   \n",
       "15  50995  2017.0          gmc                yukon denali   like new   \n",
       "22  13500  2014.0    chevrolet                       tahoe       good   \n",
       "29  34990  2016.0          gmc  canyon crew cab sle pickup       good   \n",
       "\n",
       "      cylinders fuel  odometer transmission drive    type paint_color state  \n",
       "5   8 cylinders  gas  149000.0    automatic   rwd   sedan       white    fl  \n",
       "9   8 cylinders  gas   92001.0    automatic   4wd   truck        blue    wi  \n",
       "15  8 cylinders  gas   70227.0    automatic   4wd     SUV        grey    ak  \n",
       "22  8 cylinders  gas   96007.0    automatic   rwd     SUV       white    fl  \n",
       "29  6 cylinders  gas   34425.0        other   4wd  pickup         red    ma  "
      ]
     },
     "execution_count": 8,
     "metadata": {},
     "output_type": "execute_result"
    }
   ],
   "source": [
    "df = df.dropna()\n",
    "df.head(5)"
   ]
  },
  {
   "cell_type": "code",
   "execution_count": 9,
   "id": "d4ef93ec",
   "metadata": {},
   "outputs": [
    {
     "data": {
      "text/plain": [
       "(17491, 13)"
      ]
     },
     "execution_count": 9,
     "metadata": {},
     "output_type": "execute_result"
    }
   ],
   "source": [
    "df.shape"
   ]
  },
  {
   "cell_type": "code",
   "execution_count": 10,
   "id": "629793be",
   "metadata": {},
   "outputs": [
    {
     "data": {
      "text/html": [
       "<div>\n",
       "<style scoped>\n",
       "    .dataframe tbody tr th:only-of-type {\n",
       "        vertical-align: middle;\n",
       "    }\n",
       "\n",
       "    .dataframe tbody tr th {\n",
       "        vertical-align: top;\n",
       "    }\n",
       "\n",
       "    .dataframe thead th {\n",
       "        text-align: right;\n",
       "    }\n",
       "</style>\n",
       "<table border=\"1\" class=\"dataframe\">\n",
       "  <thead>\n",
       "    <tr style=\"text-align: right;\">\n",
       "      <th></th>\n",
       "      <th>price</th>\n",
       "      <th>year</th>\n",
       "      <th>odometer</th>\n",
       "    </tr>\n",
       "  </thead>\n",
       "  <tbody>\n",
       "    <tr>\n",
       "      <th>count</th>\n",
       "      <td>1.749100e+04</td>\n",
       "      <td>17491.000000</td>\n",
       "      <td>1.749100e+04</td>\n",
       "    </tr>\n",
       "    <tr>\n",
       "      <th>mean</th>\n",
       "      <td>1.632545e+04</td>\n",
       "      <td>2009.535247</td>\n",
       "      <td>1.122616e+05</td>\n",
       "    </tr>\n",
       "    <tr>\n",
       "      <th>std</th>\n",
       "      <td>1.294429e+05</td>\n",
       "      <td>9.596493</td>\n",
       "      <td>2.155149e+05</td>\n",
       "    </tr>\n",
       "    <tr>\n",
       "      <th>min</th>\n",
       "      <td>0.000000e+00</td>\n",
       "      <td>1918.000000</td>\n",
       "      <td>0.000000e+00</td>\n",
       "    </tr>\n",
       "    <tr>\n",
       "      <th>25%</th>\n",
       "      <td>5.600000e+03</td>\n",
       "      <td>2006.000000</td>\n",
       "      <td>5.578700e+04</td>\n",
       "    </tr>\n",
       "    <tr>\n",
       "      <th>50%</th>\n",
       "      <td>1.095000e+04</td>\n",
       "      <td>2012.000000</td>\n",
       "      <td>1.025670e+05</td>\n",
       "    </tr>\n",
       "    <tr>\n",
       "      <th>75%</th>\n",
       "      <td>2.250000e+04</td>\n",
       "      <td>2015.000000</td>\n",
       "      <td>1.480000e+05</td>\n",
       "    </tr>\n",
       "    <tr>\n",
       "      <th>max</th>\n",
       "      <td>1.700000e+07</td>\n",
       "      <td>2022.000000</td>\n",
       "      <td>1.000000e+07</td>\n",
       "    </tr>\n",
       "  </tbody>\n",
       "</table>\n",
       "</div>"
      ],
      "text/plain": [
       "              price          year      odometer\n",
       "count  1.749100e+04  17491.000000  1.749100e+04\n",
       "mean   1.632545e+04   2009.535247  1.122616e+05\n",
       "std    1.294429e+05      9.596493  2.155149e+05\n",
       "min    0.000000e+00   1918.000000  0.000000e+00\n",
       "25%    5.600000e+03   2006.000000  5.578700e+04\n",
       "50%    1.095000e+04   2012.000000  1.025670e+05\n",
       "75%    2.250000e+04   2015.000000  1.480000e+05\n",
       "max    1.700000e+07   2022.000000  1.000000e+07"
      ]
     },
     "execution_count": 10,
     "metadata": {},
     "output_type": "execute_result"
    }
   ],
   "source": [
    "df.describe()"
   ]
  },
  {
   "cell_type": "markdown",
   "id": "8ceb1801",
   "metadata": {},
   "source": [
    "## Check if there are any duplicates.Remove Duplicates"
   ]
  },
  {
   "cell_type": "code",
   "execution_count": 11,
   "id": "c2226611",
   "metadata": {},
   "outputs": [],
   "source": [
    "df.drop_duplicates(inplace = True)"
   ]
  },
  {
   "cell_type": "code",
   "execution_count": 12,
   "id": "e2a89514",
   "metadata": {},
   "outputs": [
    {
     "data": {
      "text/plain": [
       "(16399, 13)"
      ]
     },
     "execution_count": 12,
     "metadata": {},
     "output_type": "execute_result"
    }
   ],
   "source": [
    "df.shape"
   ]
  },
  {
   "cell_type": "markdown",
   "id": "d4ecf10c",
   "metadata": {},
   "source": [
    "# Filtering categorical features"
   ]
  },
  {
   "cell_type": "code",
   "execution_count": 17,
   "id": "301119bb",
   "metadata": {},
   "outputs": [],
   "source": [
    "numerics = ['int8','int16','int32','int64','float16','float32','float64']\n",
    "categorical_columns = []\n",
    "features = df.columns.values.tolist()\n",
    "for col in features:\n",
    "    if df[col].dtype in numerics:\n",
    "        continue\n",
    "    categorical_columns.append(col)"
   ]
  },
  {
   "cell_type": "code",
   "execution_count": 18,
   "id": "4432dbc4",
   "metadata": {},
   "outputs": [
    {
     "data": {
      "text/plain": [
       "['manufacturer',\n",
       " 'model',\n",
       " 'condition',\n",
       " 'cylinders',\n",
       " 'fuel',\n",
       " 'transmission',\n",
       " 'drive',\n",
       " 'type',\n",
       " 'paint_color',\n",
       " 'state']"
      ]
     },
     "execution_count": 18,
     "metadata": {},
     "output_type": "execute_result"
    }
   ],
   "source": [
    "categorical_columns"
   ]
  },
  {
   "cell_type": "markdown",
   "id": "325ebdd7",
   "metadata": {},
   "source": [
    "# Encoding categorical columns using get_dummies."
   ]
  },
  {
   "cell_type": "code",
   "execution_count": 19,
   "id": "669d8083",
   "metadata": {},
   "outputs": [],
   "source": [
    "df_dummies = pd.get_dummies(df[categorical_columns],drop_first = True)"
   ]
  },
  {
   "cell_type": "code",
   "execution_count": 20,
   "id": "6dc17d08",
   "metadata": {},
   "outputs": [
    {
     "data": {
      "text/html": [
       "<div>\n",
       "<style scoped>\n",
       "    .dataframe tbody tr th:only-of-type {\n",
       "        vertical-align: middle;\n",
       "    }\n",
       "\n",
       "    .dataframe tbody tr th {\n",
       "        vertical-align: top;\n",
       "    }\n",
       "\n",
       "    .dataframe thead th {\n",
       "        text-align: right;\n",
       "    }\n",
       "</style>\n",
       "<table border=\"1\" class=\"dataframe\">\n",
       "  <thead>\n",
       "    <tr style=\"text-align: right;\">\n",
       "      <th></th>\n",
       "      <th>manufacturer_alfa-romeo</th>\n",
       "      <th>manufacturer_audi</th>\n",
       "      <th>manufacturer_bmw</th>\n",
       "      <th>manufacturer_buick</th>\n",
       "      <th>manufacturer_cadillac</th>\n",
       "      <th>manufacturer_chevrolet</th>\n",
       "      <th>manufacturer_chrysler</th>\n",
       "      <th>manufacturer_datsun</th>\n",
       "      <th>manufacturer_dodge</th>\n",
       "      <th>manufacturer_ferrari</th>\n",
       "      <th>...</th>\n",
       "      <th>state_sd</th>\n",
       "      <th>state_tn</th>\n",
       "      <th>state_tx</th>\n",
       "      <th>state_ut</th>\n",
       "      <th>state_va</th>\n",
       "      <th>state_vt</th>\n",
       "      <th>state_wa</th>\n",
       "      <th>state_wi</th>\n",
       "      <th>state_wv</th>\n",
       "      <th>state_wy</th>\n",
       "    </tr>\n",
       "  </thead>\n",
       "  <tbody>\n",
       "    <tr>\n",
       "      <th>5</th>\n",
       "      <td>0</td>\n",
       "      <td>0</td>\n",
       "      <td>0</td>\n",
       "      <td>0</td>\n",
       "      <td>0</td>\n",
       "      <td>0</td>\n",
       "      <td>1</td>\n",
       "      <td>0</td>\n",
       "      <td>0</td>\n",
       "      <td>0</td>\n",
       "      <td>...</td>\n",
       "      <td>0</td>\n",
       "      <td>0</td>\n",
       "      <td>0</td>\n",
       "      <td>0</td>\n",
       "      <td>0</td>\n",
       "      <td>0</td>\n",
       "      <td>0</td>\n",
       "      <td>0</td>\n",
       "      <td>0</td>\n",
       "      <td>0</td>\n",
       "    </tr>\n",
       "    <tr>\n",
       "      <th>9</th>\n",
       "      <td>0</td>\n",
       "      <td>0</td>\n",
       "      <td>0</td>\n",
       "      <td>0</td>\n",
       "      <td>0</td>\n",
       "      <td>1</td>\n",
       "      <td>0</td>\n",
       "      <td>0</td>\n",
       "      <td>0</td>\n",
       "      <td>0</td>\n",
       "      <td>...</td>\n",
       "      <td>0</td>\n",
       "      <td>0</td>\n",
       "      <td>0</td>\n",
       "      <td>0</td>\n",
       "      <td>0</td>\n",
       "      <td>0</td>\n",
       "      <td>0</td>\n",
       "      <td>1</td>\n",
       "      <td>0</td>\n",
       "      <td>0</td>\n",
       "    </tr>\n",
       "    <tr>\n",
       "      <th>15</th>\n",
       "      <td>0</td>\n",
       "      <td>0</td>\n",
       "      <td>0</td>\n",
       "      <td>0</td>\n",
       "      <td>0</td>\n",
       "      <td>0</td>\n",
       "      <td>0</td>\n",
       "      <td>0</td>\n",
       "      <td>0</td>\n",
       "      <td>0</td>\n",
       "      <td>...</td>\n",
       "      <td>0</td>\n",
       "      <td>0</td>\n",
       "      <td>0</td>\n",
       "      <td>0</td>\n",
       "      <td>0</td>\n",
       "      <td>0</td>\n",
       "      <td>0</td>\n",
       "      <td>0</td>\n",
       "      <td>0</td>\n",
       "      <td>0</td>\n",
       "    </tr>\n",
       "    <tr>\n",
       "      <th>22</th>\n",
       "      <td>0</td>\n",
       "      <td>0</td>\n",
       "      <td>0</td>\n",
       "      <td>0</td>\n",
       "      <td>0</td>\n",
       "      <td>1</td>\n",
       "      <td>0</td>\n",
       "      <td>0</td>\n",
       "      <td>0</td>\n",
       "      <td>0</td>\n",
       "      <td>...</td>\n",
       "      <td>0</td>\n",
       "      <td>0</td>\n",
       "      <td>0</td>\n",
       "      <td>0</td>\n",
       "      <td>0</td>\n",
       "      <td>0</td>\n",
       "      <td>0</td>\n",
       "      <td>0</td>\n",
       "      <td>0</td>\n",
       "      <td>0</td>\n",
       "    </tr>\n",
       "    <tr>\n",
       "      <th>29</th>\n",
       "      <td>0</td>\n",
       "      <td>0</td>\n",
       "      <td>0</td>\n",
       "      <td>0</td>\n",
       "      <td>0</td>\n",
       "      <td>0</td>\n",
       "      <td>0</td>\n",
       "      <td>0</td>\n",
       "      <td>0</td>\n",
       "      <td>0</td>\n",
       "      <td>...</td>\n",
       "      <td>0</td>\n",
       "      <td>0</td>\n",
       "      <td>0</td>\n",
       "      <td>0</td>\n",
       "      <td>0</td>\n",
       "      <td>0</td>\n",
       "      <td>0</td>\n",
       "      <td>0</td>\n",
       "      <td>0</td>\n",
       "      <td>0</td>\n",
       "    </tr>\n",
       "  </tbody>\n",
       "</table>\n",
       "<p>5 rows × 4317 columns</p>\n",
       "</div>"
      ],
      "text/plain": [
       "    manufacturer_alfa-romeo  manufacturer_audi  manufacturer_bmw  \\\n",
       "5                         0                  0                 0   \n",
       "9                         0                  0                 0   \n",
       "15                        0                  0                 0   \n",
       "22                        0                  0                 0   \n",
       "29                        0                  0                 0   \n",
       "\n",
       "    manufacturer_buick  manufacturer_cadillac  manufacturer_chevrolet  \\\n",
       "5                    0                      0                       0   \n",
       "9                    0                      0                       1   \n",
       "15                   0                      0                       0   \n",
       "22                   0                      0                       1   \n",
       "29                   0                      0                       0   \n",
       "\n",
       "    manufacturer_chrysler  manufacturer_datsun  manufacturer_dodge  \\\n",
       "5                       1                    0                   0   \n",
       "9                       0                    0                   0   \n",
       "15                      0                    0                   0   \n",
       "22                      0                    0                   0   \n",
       "29                      0                    0                   0   \n",
       "\n",
       "    manufacturer_ferrari  ...  state_sd  state_tn  state_tx  state_ut  \\\n",
       "5                      0  ...         0         0         0         0   \n",
       "9                      0  ...         0         0         0         0   \n",
       "15                     0  ...         0         0         0         0   \n",
       "22                     0  ...         0         0         0         0   \n",
       "29                     0  ...         0         0         0         0   \n",
       "\n",
       "    state_va  state_vt  state_wa  state_wi  state_wv  state_wy  \n",
       "5          0         0         0         0         0         0  \n",
       "9          0         0         0         1         0         0  \n",
       "15         0         0         0         0         0         0  \n",
       "22         0         0         0         0         0         0  \n",
       "29         0         0         0         0         0         0  \n",
       "\n",
       "[5 rows x 4317 columns]"
      ]
     },
     "execution_count": 20,
     "metadata": {},
     "output_type": "execute_result"
    }
   ],
   "source": [
    "df_dummies.head()"
   ]
  },
  {
   "cell_type": "code",
   "execution_count": 21,
   "id": "f21b0751",
   "metadata": {},
   "outputs": [
    {
     "data": {
      "text/plain": [
       "(16399, 4317)"
      ]
     },
     "execution_count": 21,
     "metadata": {},
     "output_type": "execute_result"
    }
   ],
   "source": [
    "df_dummies.shape"
   ]
  },
  {
   "cell_type": "code",
   "execution_count": 22,
   "id": "c16a91c1",
   "metadata": {},
   "outputs": [],
   "source": [
    "df = df.join(df_dummies)"
   ]
  },
  {
   "cell_type": "code",
   "execution_count": 23,
   "id": "f726c740",
   "metadata": {},
   "outputs": [
    {
     "data": {
      "text/plain": [
       "(16399, 4330)"
      ]
     },
     "execution_count": 23,
     "metadata": {},
     "output_type": "execute_result"
    }
   ],
   "source": [
    "df.shape"
   ]
  },
  {
   "cell_type": "code",
   "execution_count": 24,
   "id": "3ddfef96",
   "metadata": {},
   "outputs": [
    {
     "data": {
      "text/html": [
       "<div>\n",
       "<style scoped>\n",
       "    .dataframe tbody tr th:only-of-type {\n",
       "        vertical-align: middle;\n",
       "    }\n",
       "\n",
       "    .dataframe tbody tr th {\n",
       "        vertical-align: top;\n",
       "    }\n",
       "\n",
       "    .dataframe thead th {\n",
       "        text-align: right;\n",
       "    }\n",
       "</style>\n",
       "<table border=\"1\" class=\"dataframe\">\n",
       "  <thead>\n",
       "    <tr style=\"text-align: right;\">\n",
       "      <th></th>\n",
       "      <th>price</th>\n",
       "      <th>year</th>\n",
       "      <th>manufacturer</th>\n",
       "      <th>model</th>\n",
       "      <th>condition</th>\n",
       "      <th>cylinders</th>\n",
       "      <th>fuel</th>\n",
       "      <th>odometer</th>\n",
       "      <th>transmission</th>\n",
       "      <th>drive</th>\n",
       "      <th>...</th>\n",
       "      <th>state_sd</th>\n",
       "      <th>state_tn</th>\n",
       "      <th>state_tx</th>\n",
       "      <th>state_ut</th>\n",
       "      <th>state_va</th>\n",
       "      <th>state_vt</th>\n",
       "      <th>state_wa</th>\n",
       "      <th>state_wi</th>\n",
       "      <th>state_wv</th>\n",
       "      <th>state_wy</th>\n",
       "    </tr>\n",
       "  </thead>\n",
       "  <tbody>\n",
       "    <tr>\n",
       "      <th>5</th>\n",
       "      <td>0</td>\n",
       "      <td>2006.0</td>\n",
       "      <td>chrysler</td>\n",
       "      <td>300</td>\n",
       "      <td>like new</td>\n",
       "      <td>8 cylinders</td>\n",
       "      <td>gas</td>\n",
       "      <td>149000.0</td>\n",
       "      <td>automatic</td>\n",
       "      <td>rwd</td>\n",
       "      <td>...</td>\n",
       "      <td>0</td>\n",
       "      <td>0</td>\n",
       "      <td>0</td>\n",
       "      <td>0</td>\n",
       "      <td>0</td>\n",
       "      <td>0</td>\n",
       "      <td>0</td>\n",
       "      <td>0</td>\n",
       "      <td>0</td>\n",
       "      <td>0</td>\n",
       "    </tr>\n",
       "    <tr>\n",
       "      <th>9</th>\n",
       "      <td>20995</td>\n",
       "      <td>2011.0</td>\n",
       "      <td>chevrolet</td>\n",
       "      <td>silverado 1500</td>\n",
       "      <td>excellent</td>\n",
       "      <td>8 cylinders</td>\n",
       "      <td>gas</td>\n",
       "      <td>92001.0</td>\n",
       "      <td>automatic</td>\n",
       "      <td>4wd</td>\n",
       "      <td>...</td>\n",
       "      <td>0</td>\n",
       "      <td>0</td>\n",
       "      <td>0</td>\n",
       "      <td>0</td>\n",
       "      <td>0</td>\n",
       "      <td>0</td>\n",
       "      <td>0</td>\n",
       "      <td>1</td>\n",
       "      <td>0</td>\n",
       "      <td>0</td>\n",
       "    </tr>\n",
       "    <tr>\n",
       "      <th>15</th>\n",
       "      <td>50995</td>\n",
       "      <td>2017.0</td>\n",
       "      <td>gmc</td>\n",
       "      <td>yukon denali</td>\n",
       "      <td>like new</td>\n",
       "      <td>8 cylinders</td>\n",
       "      <td>gas</td>\n",
       "      <td>70227.0</td>\n",
       "      <td>automatic</td>\n",
       "      <td>4wd</td>\n",
       "      <td>...</td>\n",
       "      <td>0</td>\n",
       "      <td>0</td>\n",
       "      <td>0</td>\n",
       "      <td>0</td>\n",
       "      <td>0</td>\n",
       "      <td>0</td>\n",
       "      <td>0</td>\n",
       "      <td>0</td>\n",
       "      <td>0</td>\n",
       "      <td>0</td>\n",
       "    </tr>\n",
       "    <tr>\n",
       "      <th>22</th>\n",
       "      <td>13500</td>\n",
       "      <td>2014.0</td>\n",
       "      <td>chevrolet</td>\n",
       "      <td>tahoe</td>\n",
       "      <td>good</td>\n",
       "      <td>8 cylinders</td>\n",
       "      <td>gas</td>\n",
       "      <td>96007.0</td>\n",
       "      <td>automatic</td>\n",
       "      <td>rwd</td>\n",
       "      <td>...</td>\n",
       "      <td>0</td>\n",
       "      <td>0</td>\n",
       "      <td>0</td>\n",
       "      <td>0</td>\n",
       "      <td>0</td>\n",
       "      <td>0</td>\n",
       "      <td>0</td>\n",
       "      <td>0</td>\n",
       "      <td>0</td>\n",
       "      <td>0</td>\n",
       "    </tr>\n",
       "    <tr>\n",
       "      <th>29</th>\n",
       "      <td>34990</td>\n",
       "      <td>2016.0</td>\n",
       "      <td>gmc</td>\n",
       "      <td>canyon crew cab sle pickup</td>\n",
       "      <td>good</td>\n",
       "      <td>6 cylinders</td>\n",
       "      <td>gas</td>\n",
       "      <td>34425.0</td>\n",
       "      <td>other</td>\n",
       "      <td>4wd</td>\n",
       "      <td>...</td>\n",
       "      <td>0</td>\n",
       "      <td>0</td>\n",
       "      <td>0</td>\n",
       "      <td>0</td>\n",
       "      <td>0</td>\n",
       "      <td>0</td>\n",
       "      <td>0</td>\n",
       "      <td>0</td>\n",
       "      <td>0</td>\n",
       "      <td>0</td>\n",
       "    </tr>\n",
       "  </tbody>\n",
       "</table>\n",
       "<p>5 rows × 4330 columns</p>\n",
       "</div>"
      ],
      "text/plain": [
       "    price    year manufacturer                       model  condition  \\\n",
       "5       0  2006.0     chrysler                         300   like new   \n",
       "9   20995  2011.0    chevrolet              silverado 1500  excellent   \n",
       "15  50995  2017.0          gmc                yukon denali   like new   \n",
       "22  13500  2014.0    chevrolet                       tahoe       good   \n",
       "29  34990  2016.0          gmc  canyon crew cab sle pickup       good   \n",
       "\n",
       "      cylinders fuel  odometer transmission drive  ... state_sd state_tn  \\\n",
       "5   8 cylinders  gas  149000.0    automatic   rwd  ...        0        0   \n",
       "9   8 cylinders  gas   92001.0    automatic   4wd  ...        0        0   \n",
       "15  8 cylinders  gas   70227.0    automatic   4wd  ...        0        0   \n",
       "22  8 cylinders  gas   96007.0    automatic   rwd  ...        0        0   \n",
       "29  6 cylinders  gas   34425.0        other   4wd  ...        0        0   \n",
       "\n",
       "   state_tx  state_ut  state_va  state_vt  state_wa  state_wi  state_wv  \\\n",
       "5         0         0         0         0         0         0         0   \n",
       "9         0         0         0         0         0         1         0   \n",
       "15        0         0         0         0         0         0         0   \n",
       "22        0         0         0         0         0         0         0   \n",
       "29        0         0         0         0         0         0         0   \n",
       "\n",
       "    state_wy  \n",
       "5          0  \n",
       "9          0  \n",
       "15         0  \n",
       "22         0  \n",
       "29         0  \n",
       "\n",
       "[5 rows x 4330 columns]"
      ]
     },
     "execution_count": 24,
     "metadata": {},
     "output_type": "execute_result"
    }
   ],
   "source": [
    "df.head()"
   ]
  },
  {
   "cell_type": "code",
   "execution_count": 25,
   "id": "e798d4c2",
   "metadata": {},
   "outputs": [],
   "source": [
    "df.drop(columns = categorical_columns,axis = 1,inplace = True)"
   ]
  },
  {
   "cell_type": "code",
   "execution_count": 27,
   "id": "746e84e3",
   "metadata": {},
   "outputs": [
    {
     "data": {
      "text/html": [
       "<div>\n",
       "<style scoped>\n",
       "    .dataframe tbody tr th:only-of-type {\n",
       "        vertical-align: middle;\n",
       "    }\n",
       "\n",
       "    .dataframe tbody tr th {\n",
       "        vertical-align: top;\n",
       "    }\n",
       "\n",
       "    .dataframe thead th {\n",
       "        text-align: right;\n",
       "    }\n",
       "</style>\n",
       "<table border=\"1\" class=\"dataframe\">\n",
       "  <thead>\n",
       "    <tr style=\"text-align: right;\">\n",
       "      <th></th>\n",
       "      <th>price</th>\n",
       "      <th>year</th>\n",
       "      <th>odometer</th>\n",
       "      <th>manufacturer_alfa-romeo</th>\n",
       "      <th>manufacturer_audi</th>\n",
       "      <th>manufacturer_bmw</th>\n",
       "      <th>manufacturer_buick</th>\n",
       "      <th>manufacturer_cadillac</th>\n",
       "      <th>manufacturer_chevrolet</th>\n",
       "      <th>manufacturer_chrysler</th>\n",
       "      <th>...</th>\n",
       "      <th>state_sd</th>\n",
       "      <th>state_tn</th>\n",
       "      <th>state_tx</th>\n",
       "      <th>state_ut</th>\n",
       "      <th>state_va</th>\n",
       "      <th>state_vt</th>\n",
       "      <th>state_wa</th>\n",
       "      <th>state_wi</th>\n",
       "      <th>state_wv</th>\n",
       "      <th>state_wy</th>\n",
       "    </tr>\n",
       "  </thead>\n",
       "  <tbody>\n",
       "    <tr>\n",
       "      <th>5</th>\n",
       "      <td>0</td>\n",
       "      <td>2006.0</td>\n",
       "      <td>149000.0</td>\n",
       "      <td>0</td>\n",
       "      <td>0</td>\n",
       "      <td>0</td>\n",
       "      <td>0</td>\n",
       "      <td>0</td>\n",
       "      <td>0</td>\n",
       "      <td>1</td>\n",
       "      <td>...</td>\n",
       "      <td>0</td>\n",
       "      <td>0</td>\n",
       "      <td>0</td>\n",
       "      <td>0</td>\n",
       "      <td>0</td>\n",
       "      <td>0</td>\n",
       "      <td>0</td>\n",
       "      <td>0</td>\n",
       "      <td>0</td>\n",
       "      <td>0</td>\n",
       "    </tr>\n",
       "    <tr>\n",
       "      <th>9</th>\n",
       "      <td>20995</td>\n",
       "      <td>2011.0</td>\n",
       "      <td>92001.0</td>\n",
       "      <td>0</td>\n",
       "      <td>0</td>\n",
       "      <td>0</td>\n",
       "      <td>0</td>\n",
       "      <td>0</td>\n",
       "      <td>1</td>\n",
       "      <td>0</td>\n",
       "      <td>...</td>\n",
       "      <td>0</td>\n",
       "      <td>0</td>\n",
       "      <td>0</td>\n",
       "      <td>0</td>\n",
       "      <td>0</td>\n",
       "      <td>0</td>\n",
       "      <td>0</td>\n",
       "      <td>1</td>\n",
       "      <td>0</td>\n",
       "      <td>0</td>\n",
       "    </tr>\n",
       "  </tbody>\n",
       "</table>\n",
       "<p>2 rows × 4320 columns</p>\n",
       "</div>"
      ],
      "text/plain": [
       "   price    year  odometer  manufacturer_alfa-romeo  manufacturer_audi  \\\n",
       "5      0  2006.0  149000.0                        0                  0   \n",
       "9  20995  2011.0   92001.0                        0                  0   \n",
       "\n",
       "   manufacturer_bmw  manufacturer_buick  manufacturer_cadillac  \\\n",
       "5                 0                   0                      0   \n",
       "9                 0                   0                      0   \n",
       "\n",
       "   manufacturer_chevrolet  manufacturer_chrysler  ...  state_sd  state_tn  \\\n",
       "5                       0                      1  ...         0         0   \n",
       "9                       1                      0  ...         0         0   \n",
       "\n",
       "   state_tx  state_ut  state_va  state_vt  state_wa  state_wi  state_wv  \\\n",
       "5         0         0         0         0         0         0         0   \n",
       "9         0         0         0         0         0         1         0   \n",
       "\n",
       "   state_wy  \n",
       "5         0  \n",
       "9         0  \n",
       "\n",
       "[2 rows x 4320 columns]"
      ]
     },
     "execution_count": 27,
     "metadata": {},
     "output_type": "execute_result"
    }
   ],
   "source": [
    "df.head(2)"
   ]
  },
  {
   "cell_type": "markdown",
   "id": "5cfd11e0",
   "metadata": {},
   "source": [
    "# Selecting realistic data.Here domain knowledge will help a lot to decide what could be the higher and lower price"
   ]
  },
  {
   "cell_type": "code",
   "execution_count": 28,
   "id": "80d90a7c",
   "metadata": {},
   "outputs": [],
   "source": [
    "df = df[df['price'] > 1000]\n",
    "df = df[df['price'] < 40000]"
   ]
  },
  {
   "cell_type": "code",
   "execution_count": 29,
   "id": "5af38da6",
   "metadata": {},
   "outputs": [
    {
     "data": {
      "text/plain": [
       "(14742, 4320)"
      ]
     },
     "execution_count": 29,
     "metadata": {},
     "output_type": "execute_result"
    }
   ],
   "source": [
    "df.shape"
   ]
  },
  {
   "cell_type": "markdown",
   "id": "f2df73c0",
   "metadata": {},
   "source": [
    "#### Divide dataset inot features and label"
   ]
  },
  {
   "cell_type": "code",
   "execution_count": 30,
   "id": "dd08710e",
   "metadata": {},
   "outputs": [],
   "source": [
    "x = df.drop(['price'],axis = 1)\n",
    "y = df['price']"
   ]
  },
  {
   "cell_type": "code",
   "execution_count": 31,
   "id": "b4bca14c",
   "metadata": {},
   "outputs": [],
   "source": [
    "# Data split into train test\n",
    "x_train,x_test,y_train,y_test = train_test_split(x,y,test_size = 0.25,random_state = 10)"
   ]
  },
  {
   "cell_type": "code",
   "execution_count": 32,
   "id": "4ef8ad31",
   "metadata": {},
   "outputs": [],
   "source": [
    "import xgboost as xgb\n",
    "xgb = xgb.XGBRegressor()"
   ]
  },
  {
   "cell_type": "code",
   "execution_count": 34,
   "id": "5394c748",
   "metadata": {},
   "outputs": [
    {
     "data": {
      "text/plain": [
       "XGBRegressor(base_score=0.5, booster='gbtree', callbacks=None,\n",
       "             colsample_bylevel=1, colsample_bynode=1, colsample_bytree=1,\n",
       "             early_stopping_rounds=None, enable_categorical=False,\n",
       "             eval_metric=None, gamma=0, gpu_id=-1, grow_policy='depthwise',\n",
       "             importance_type=None, interaction_constraints='',\n",
       "             learning_rate=0.300000012, max_bin=256, max_cat_to_onehot=4,\n",
       "             max_delta_step=0, max_depth=6, max_leaves=0, min_child_weight=1,\n",
       "             missing=nan, monotone_constraints='()', n_estimators=100, n_jobs=0,\n",
       "             num_parallel_tree=1, predictor='auto', random_state=0, reg_alpha=0,\n",
       "             reg_lambda=1, ...)"
      ]
     },
     "execution_count": 34,
     "metadata": {},
     "output_type": "execute_result"
    }
   ],
   "source": [
    "xgb.fit(x_train,y_train)"
   ]
  },
  {
   "cell_type": "code",
   "execution_count": 35,
   "id": "eb426e61",
   "metadata": {},
   "outputs": [],
   "source": [
    "y_pred = xgb.predict(x_test)"
   ]
  },
  {
   "cell_type": "code",
   "execution_count": 36,
   "id": "44ca064e",
   "metadata": {},
   "outputs": [
    {
     "data": {
      "text/plain": [
       "0.8494808147571992"
      ]
     },
     "execution_count": 36,
     "metadata": {},
     "output_type": "execute_result"
    }
   ],
   "source": [
    "r2_score(y_test,y_pred)"
   ]
  },
  {
   "cell_type": "code",
   "execution_count": null,
   "id": "c60a3f7e",
   "metadata": {},
   "outputs": [],
   "source": []
  }
 ],
 "metadata": {
  "kernelspec": {
   "display_name": "Python 3 (ipykernel)",
   "language": "python",
   "name": "python3"
  },
  "language_info": {
   "codemirror_mode": {
    "name": "ipython",
    "version": 3
   },
   "file_extension": ".py",
   "mimetype": "text/x-python",
   "name": "python",
   "nbconvert_exporter": "python",
   "pygments_lexer": "ipython3",
   "version": "3.9.12"
  }
 },
 "nbformat": 4,
 "nbformat_minor": 5
}
